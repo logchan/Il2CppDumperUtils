{
 "cells": [
  {
   "cell_type": "code",
   "execution_count": null,
   "id": "reverse-status",
   "metadata": {},
   "outputs": [],
   "source": [
    "import os, re\n",
    "from pathlib import Path"
   ]
  },
  {
   "cell_type": "code",
   "execution_count": null,
   "id": "thirty-memorial",
   "metadata": {},
   "outputs": [],
   "source": [
    "def process(addr_start, addr_end, path, prefix, output):\n",
    "    path = Path(path)\n",
    "    for f in os.listdir(path):\n",
    "        if \"-maps.txt\" in f:\n",
    "            continue\n",
    "        name = f[len(prefix):]\n",
    "        start = int(name[:name.find(\"-\")], base=16)\n",
    "        end = int(name[name.find(\"-\")+1:name.find(\".bin\")], base=16)\n",
    "        if start <= addr_start and end >= addr_end:\n",
    "            break\n",
    "    print(f, hex(start), hex(end))\n",
    "    with open(path / f, \"rb\") as fp:\n",
    "        data = fp.read()\n",
    "    data = data[addr_start-start:len(data)-(end-addr_end)]\n",
    "    with open(path / output, \"wb\") as fp:\n",
    "        fp.write(data)"
   ]
  },
  {
   "cell_type": "code",
   "execution_count": null,
   "id": "acknowledged-champagne",
   "metadata": {},
   "outputs": [],
   "source": [
    "def autoProcess(path, target=\"libil2cpp.so\"):\n",
    "    path = Path(path)\n",
    "    suffix = \"-maps.txt\"\n",
    "    maps_file = [f for f in os.listdir(path) if f.endswith(suffix)][0]\n",
    "    prefix = maps_file[:-len(suffix)+1]\n",
    "    with open(path / maps_file, \"r\") as f:\n",
    "        lines = f.readlines()\n",
    "    start = None\n",
    "    end = None\n",
    "    re_addr = re.compile(\"^([a-f0-9]+)-([a-f0-9]+)\")\n",
    "    for line in lines:\n",
    "        if not target in line:\n",
    "            continue\n",
    "        m = re_addr.match(line)\n",
    "        st, ed = [int(v, base=16) for v in m.groups()]\n",
    "        if start is None:\n",
    "            start = st\n",
    "        end = ed\n",
    "    print(f\"target {hex(start)}-{hex(end)}\")\n",
    "    process(start, end, path, prefix, target)"
   ]
  },
  {
   "cell_type": "code",
   "execution_count": null,
   "id": "derived-pregnancy",
   "metadata": {},
   "outputs": [],
   "source": [
    "autoProcess(\"G:/Downloads/Dump\")"
   ]
  }
 ],
 "metadata": {
  "kernelspec": {
   "display_name": "Python 3",
   "language": "python",
   "name": "python3"
  },
  "language_info": {
   "codemirror_mode": {
    "name": "ipython",
    "version": 3
   },
   "file_extension": ".py",
   "mimetype": "text/x-python",
   "name": "python",
   "nbconvert_exporter": "python",
   "pygments_lexer": "ipython3",
   "version": "3.8.7"
  }
 },
 "nbformat": 4,
 "nbformat_minor": 5
}
